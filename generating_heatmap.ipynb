{
 "cells": [
  {
   "cell_type": "code",
   "execution_count": 71,
   "id": "074898d2-7583-4339-ad31-6a688044aea0",
   "metadata": {},
   "outputs": [
    {
     "data": {
      "image/png": "[encoded data removed]",
      "text/plain": [
       "<Figure size 640x480 with 2 Axes>"
      ]
     },
     "metadata": {},
     "output_type": "display_data"
    }
   ],
   "source": [
    "%matplotlib inline\n",
    "import matplotlib.pyplot as plt\n",
    "import numpy as np\n",
    "\n",
    "def heatmap(data, row_labels, col_labels, ax=None,\n",
    "            cbar_kw={}, cbarlabel=\"\", **kwargs):\n",
    "    if ax is None:\n",
    "        ax = plt.gca()\n",
    "\n",
    "    im = ax.imshow(data, **kwargs)\n",
    "    cbar = ax.figure.colorbar(im, ax=ax, **cbar_kw)\n",
    "    cbar.ax.set_ylabel(cbarlabel, rotation=-90, va=\"bottom\")\n",
    "\n",
    "    ax.set_xticks(np.arange(data.shape[1]))\n",
    "    ax.set_yticks(np.arange(data.shape[0]))\n",
    "    ax.set_xticklabels(col_labels)\n",
    "    ax.set_yticklabels(row_labels)\n",
    "\n",
    "    plt.setp(ax.get_xticklabels(), rotation=45, ha=\"right\",\n",
    "             rotation_mode=\"anchor\")\n",
    "\n",
    "    for edge, spine in ax.spines.items():\n",
    "        spine.set_visible(False)\n",
    "\n",
    "    ax.set_xticks(np.arange(data.shape[1]+1)-.5, minor=True)\n",
    "    ax.set_yticks(np.arange(data.shape[0]+1)-.5, minor=True)\n",
    "    ax.grid(which=\"minor\", color=\"w\", linestyle='-', linewidth=3)\n",
    "    ax.tick_params(which=\"minor\", bottom=False, left=False)\n",
    "\n",
    "    return im, cbar\n",
    "\n",
    "\n",
    "data = np.random.rand(6, 6)\n",
    "row_labels = [f\"Row {i}\" for i in range(6)]\n",
    "col_labels = [f\"Col {i}\" for i in range(6)]\n",
    "\n",
    "fig, ax = plt.subplots()\n",
    "im, cbar = heatmap(data, row_labels, col_labels, ax=ax, cbarlabel=\"Intensity\")\n",
    "plt.show()"
   ]
  },
  {
   "cell_type": "raw",
   "id": "f2b6c4ee-a344-4449-ad06-a448606d6b27",
   "metadata": {},
   "source": [
    "It gives me error when i cut every part of the code so i make it into one"
   ]
  },
  {
   "cell_type": "raw",
   "id": "146000d8-c4e5-4c8d-ae8a-3551de09864e",
   "metadata": {},
   "source": [
    "%matplotlib inline is a magic command in Jupyter. It shows the plot in (from matplotlib) directly below the code cell where the plot is generated — inline in the notebook — instead of opening them in a separate window."
   ]
  },
  {
   "cell_type": "raw",
   "id": "0c230c2b-ada5-429f-a10d-4a92c2546d35",
   "metadata": {},
   "source": [
    "def heatmap(data, row_labels, col_labels, ax=None,cbar_kw={}, cbarlabel=\"\", **kwargs):   \n",
    "Defines a function called heatmap data: 2D array (the heatmap data). \n",
    "row_labels, col_labels: Labels for y-axis and x-axis.\n",
    "ax: Optional axes object — if not given, will use the current axis.\n",
    "cbar_kw: Optional keyword arguments for colorbar customization.\n",
    "cbarlabel: Label for the colorbar.\n",
    "**kwargs: Additional arguments to pass to imshow()."
   ]
  },
  {
   "cell_type": "raw",
   "id": "69d809a7-808d-4133-a599-7f334eb7e95b",
   "metadata": {},
   "source": [
    " if ax is None:\n",
    "        ax = plt.gca() If no axis is passed in, use the current axis (gca = Get Current Axis).                      "
   ]
  },
  {
   "cell_type": "raw",
   "id": "946af152-471c-4f37-a46f-0203f0b5bd5e",
   "metadata": {},
   "source": [
    "  im = ax.imshow(data, **kwargs)  \n",
    "Creates the heatmap using imshow(), which displays the 2D data as an image.\n",
    "im is the image object returned."
   ]
  },
  {
   "cell_type": "raw",
   "id": "683d65bd-6b24-4a58-b5c8-fd2d34e373e8",
   "metadata": {},
   "source": [
    "cbar = ax.figure.colorbar(im, ax=ax, **cbar_kw)\n",
    "cbar.ax.set_ylabel(cbarlabel, rotation=-90, va=\"bottom\")     \n",
    "Adds a colorbar to the heatmap.\n",
    "cbarlabel is set as the label on the colorbar, rotated vertically."
   ]
  },
  {
   "cell_type": "raw",
   "id": "f48943ef-4df3-4e04-bd58-1b54bc7e5344",
   "metadata": {},
   "source": [
    " ax.set_xticks(np.arange(data.shape[1]))\n",
    "    ax.set_yticks(np.arange(data.shape[0]))\n",
    "    ax.set_xticklabels(col_labels)\n",
    "    ax.set_yticklabels(row_labels)\n",
    "Sets x and y ticks based on the number of columns and rows.\n",
    "Labels those ticks using col_labels and row_labels."
   ]
  },
  {
   "cell_type": "raw",
   "id": "025c37df-7fa4-4cc8-a0d2-c5249632cf96",
   "metadata": {},
   "source": [
    " plt.setp(ax.get_xticklabels(), rotation=45, ha=\"right\",\n",
    "             rotation_mode=\"anchor\") \n",
    "Rotates x-axis labels 45 degrees for readability.\n",
    "Aligns them to the right side of the tick."
   ]
  },
  {
   "cell_type": "raw",
   "id": "21bb78b8-ee8c-4d4e-a7f8-d5dc5655c0c7",
   "metadata": {},
   "source": [
    "for edge, spine in ax.spines.items():\n",
    "        spine.set_visible(False)\n",
    "Hides the plot border (spines) for a cleaner look."
   ]
  },
  {
   "cell_type": "raw",
   "id": "b447c8fa-4f1f-484c-8558-5f98bc422d1c",
   "metadata": {},
   "source": [
    "ax.set_xticks(np.arange(data.shape[1]+1)-.5, minor=True)\n",
    "    ax.set_yticks(np.arange(data.shape[0]+1)-.5, minor=True)\n",
    "Adds minor ticks between cells to draw grid lines."
   ]
  },
  {
   "cell_type": "raw",
   "id": "5055f8fe-da1c-4a0a-b2a2-d2c6b28e6471",
   "metadata": {},
   "source": [
    " ax.grid(which=\"minor\", color=\"w\", linestyle='-', linewidth=3)\n",
    "Adds white grid lines between cells using the minor ticks."
   ]
  },
  {
   "cell_type": "raw",
   "id": "eef971b0-bb87-421d-be09-6ff5f39e3d0d",
   "metadata": {},
   "source": [
    " ax.tick_params(which=\"minor\", bottom=False, left=False)\n",
    "Disables tick marks for the minor ticks (we only use them for grid lines, not actual ticks)."
   ]
  },
  {
   "cell_type": "raw",
   "id": "c69f24db-3dcb-48cd-9709-137a058ca46d",
   "metadata": {},
   "source": [
    " return im, cbar\n",
    "Returns the image and colorbar objects for further customization or use."
   ]
  },
  {
   "cell_type": "raw",
   "id": "0783f1b3-27f9-45e6-8acb-74089fe5f185",
   "metadata": {},
   "source": [
    "Create and Show Heatmap\n",
    "data = np.random.rand(6, 6)\n",
    "Generates a 6x6 matrix of random values between 0 and 1."
   ]
  },
  {
   "cell_type": "raw",
   "id": "7e43076d-34cc-44ce-adbf-5c50bba98572",
   "metadata": {},
   "source": [
    "row_labels = [f\"Row {i}\" for i in range(6)]\n",
    "col_labels = [f\"Col {i}\" for i in range(6)]\n",
    "Creates row and column labels like Row 0, Row 1, ..., Col 0, Col 1, etc."
   ]
  },
  {
   "cell_type": "raw",
   "id": "605e6a95-f456-4af7-8294-27384a42409f",
   "metadata": {},
   "source": [
    "fig, ax = plt.subplots()\n",
    "Creates a new figure and axis to draw the heatmap on."
   ]
  },
  {
   "cell_type": "raw",
   "id": "35379a7f-55e7-4bfb-92bc-11a70c3d1c3e",
   "metadata": {},
   "source": [
    "im, cbar = heatmap(data, row_labels, col_labels, ax=ax, cbarlabel=\"Intensity\")\n",
    "Calls your heatmap function with the data and labels.\n",
    "Assigns the returned image and colorbar to variables"
   ]
  },
  {
   "cell_type": "raw",
   "id": "1523054e-b01d-476e-936e-00b160cf7e33",
   "metadata": {},
   "source": [
    "plt.show()\n",
    "Displays the final plot."
   ]
  }
 ],
 "metadata": {
  "kernelspec": {
   "display_name": "Python [conda env:base] *",
   "language": "python",
   "name": "conda-base-py"
  },
  "language_info": {
   "codemirror_mode": {
    "name": "ipython",
    "version": 3
   },
   "file_extension": ".py",
   "mimetype": "text/x-python",
   "name": "python",
   "nbconvert_exporter": "python",
   "pygments_lexer": "ipython3",
   "version": "3.12.7"
  }
 },
 "nbformat": 4,
 "nbformat_minor": 5
}

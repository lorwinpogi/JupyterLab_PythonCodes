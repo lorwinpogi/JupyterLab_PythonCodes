{
 "cells": [
  {
   "cell_type": "code",
   "execution_count": 16,
   "id": "23b80290-de74-45de-88fa-e50d184d191d",
   "metadata": {},
   "outputs": [
    {
     "name": "stdout",
     "output_type": "stream",
     "text": [
      "f = open('pg36431.txt')\n",
      "text = f.read()\n",
      "print(text)\n"
     ]
    }
   ],
   "source": [
    "f = open ('pg36431.txt')\n",
    "text = f.read()\n",
    "print(text)"
   ]
  },
  {
   "cell_type": "raw",
   "id": "9c7da55b-e655-4ba7-87cf-4787f151b2b7",
   "metadata": {},
   "source": [
    "I cant run the code properly. it should read the text file inside pg36431.txt"
   ]
  },
  {
   "cell_type": "code",
   "execution_count": 40,
   "id": "fee443ff-0b85-4983-8f0d-65e6e72fda1e",
   "metadata": {},
   "outputs": [
    {
     "data": {
      "text/plain": [
       "\"f = open('pg36431.txt')\\ntext = f.read()\\nprint(text)\""
      ]
     },
     "execution_count": 40,
     "metadata": {},
     "output_type": "execute_result"
    }
   ],
   "source": [
    "text"
   ]
  },
  {
   "cell_type": "raw",
   "id": "bb1ff2f2-574c-4f7b-a84a-46e2498ebcc9",
   "metadata": {},
   "source": [
    "text command without print should print out the whole text file inside pg36431.txt"
   ]
  },
  {
   "cell_type": "code",
   "execution_count": 25,
   "id": "bbccb7bd-464f-4614-b2fe-252f38a39730",
   "metadata": {},
   "outputs": [
    {
     "name": "stdout",
     "output_type": "stream",
     "text": [
      "The P\n"
     ]
    }
   ],
   "source": [
    "with open (\"pg37431.txt\", encoding=\"utf-8\") as f:\n",
    "    print(f.read(5))"
   ]
  },
  {
   "cell_type": "raw",
   "id": "9149afb2-75a4-459f-bee5-9b0bcdd58d94",
   "metadata": {},
   "source": [
    "opens the text file: pg37431.txt then prints the first 5 characters from the file including the spaces"
   ]
  },
  {
   "cell_type": "raw",
   "id": "3c0c4795-e31a-49ab-9f06-912d6d90eb67",
   "metadata": {},
   "source": [
    "utf-8 stands for Unicode Transformation Format – 8-bit is a character encoding that uses 1 to 4 bytes to represent Unicode characters such as 1s and 0s map to letters, symbols, emojis, etc."
   ]
  },
  {
   "cell_type": "code",
   "execution_count": 27,
   "id": "9035ead5-e5d4-4c75-9ae9-8edd9e351854",
   "metadata": {},
   "outputs": [
    {
     "name": "stdout",
     "output_type": "stream",
     "text": [
      "The Project Gutenberg eBook of Pride and Prejudice, a play founded on Jane Austen's novel\n",
      "\n"
     ]
    }
   ],
   "source": [
    "with open (\"pg37431.txt\", encoding=\"utf-8\") as f:\n",
    "    print(f.readline())"
   ]
  },
  {
   "cell_type": "raw",
   "id": "22a21097-7fa9-475c-b1de-7c19aac44038",
   "metadata": {},
   "source": [
    "Reads the first line in the text file: pg37431.txt"
   ]
  }
 ],
 "metadata": {
  "kernelspec": {
   "display_name": "Python [conda env:base] *",
   "language": "python",
   "name": "conda-base-py"
  },
  "language_info": {
   "codemirror_mode": {
    "name": "ipython",
    "version": 3
   },
   "file_extension": ".py",
   "mimetype": "text/x-python",
   "name": "python",
   "nbconvert_exporter": "python",
   "pygments_lexer": "ipython3",
   "version": "3.12.7"
  }
 },
 "nbformat": 4,
 "nbformat_minor": 5
}

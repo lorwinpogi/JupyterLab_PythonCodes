{
 "cells": [
  {
   "cell_type": "code",
   "execution_count": 20,
   "id": "0797fa07-1f25-42b7-806d-4842f236aff0",
   "metadata": {},
   "outputs": [],
   "source": [
    "import matplotlib.pyplot as plt\n",
    "import numpy as np\n",
    "import matplotlib\n",
    "\n",
    "data = np.array([\n",
    "    [30, 20, 10],\n",
    "    [10, 40, 15],\n",
    "    [12, 10, 20]\n",
    "])\n",
    "\n",
    "# Define heatmap function\n",
    "def heatmap(data, row_labels, col_labels, ax=None,\n",
    "            cbar_kw={}, cbarlabel=\"\", **kwargs):\n",
    "    if not ax:\n",
    "        ax = plt.gca()\n",
    "\n",
    "    im = ax.imshow(data, **kwargs)\n",
    "\n",
    "    # Create colorbar\n",
    "    cbar = ax.figure.colorbar(im, ax=ax, **cbar_kw)\n",
    "    cbar.ax.set_ylabel(cbarlabel, rotation=-90, va=\"bottom\")\n",
    "\n",
    "    # Show all ticks and label them\n",
    "    ax.set_xticks(np.arange(data.shape[1]), labels=col_labels)\n",
    "    ax.set_yticks(np.arange(data.shape[0]), labels=row_labels)\n",
    "\n",
    "    # Rotate the tick labels and set their alignment.\n",
    "    plt.setp(ax.get_xticklabels(), rotation=-30, ha=\"right\", rotation_mode=\"anchor\")\n",
    "\n",
    "    # Turn spines off and create white grid.\n",
    "    for edge, spine in ax.spines.items():\n",
    "        spine.set_visible(False)\n",
    "\n",
    "    ax.set_xticks(np.arange(data.shape[1]+1)-.5, minor=True)\n",
    "    ax.set_yticks(np.arange(data.shape[0]+1)-.5, minor=True)\n",
    "    ax.grid(which=\"minor\", color=\"w\", linestyle='-', linewidth=3)\n",
    "    ax.tick_params(which=\"minor\", bottom=False, left=False)\n",
    "\n",
    "    return im, cbar"
   ]
  },
  {
   "cell_type": "raw",
   "id": "e7435dc5-156c-43c4-b7b6-81a949f43a98",
   "metadata": {},
   "source": [
    "data list def heatmap data for array of values you want to visualize, row_labels for the left x axis labels, col_labels for the bottom y axis label, ax for axes of matplotlib if theres none the current one will be used, cbar_kw for changing colorbars, cbarlabel is text label for the colorbar and **kwargs for the keyword arguments like cmap='YlGn' passed to imshow()"
   ]
  },
  {
   "cell_type": "raw",
   "id": "0268ae9e-755f-45a5-aea6-733472d68557",
   "metadata": {},
   "source": [
    "if not axe: \n",
    "    ax = plt.gca()\n",
    "\n",
    "uses the current axis if none is provided for the heatmap plotting"
   ]
  },
  {
   "cell_type": "raw",
   "id": "e06f14f4-a66a-4c05-929c-6bed9d963b96",
   "metadata": {},
   "source": [
    "im = ax.imshow(data, **kwargs) \n",
    "it display the heatmap and changes the color intensity base on the value in data"
   ]
  },
  {
   "cell_type": "raw",
   "id": "613881ba-3ac7-4cfc-af1c-ac0b77262a3f",
   "metadata": {},
   "source": [
    "cbar = ax.figure.colorbar(im, ax=ax, **cbar_kw)\n",
    "Adds a colorbar on the side, showing the scale of values.\n",
    "\n",
    "cbar.ax.set_ylabel(cbarlabel, rotation=-90, va=\"bottom\")\n",
    "Sets the label (like “Number of Students”) and rotates it vertically."
   ]
  },
  {
   "cell_type": "raw",
   "id": "020ed81a-fd33-45f2-a381-95a8f4dde583",
   "metadata": {},
   "source": [
    "ax.set_xticks(np.arange(data.shape[1]), labels=col_labels)\n",
    "ax.set_yticks(np.arange(data.shape[0]), labels=row_labels)\n",
    "\n",
    "Places tick marks for each row and column and assigns given labels."
   ]
  },
  {
   "cell_type": "raw",
   "id": "7b2014fd-fe10-4e7d-914b-f670e78f08a8",
   "metadata": {},
   "source": [
    "plt.setp(ax.get_xticklabels(), rotation=-30, ha=\"right\", rotation_mode=\"anchor\")\n",
    "\n",
    "Rotates x-axis labels (columns) "
   ]
  },
  {
   "cell_type": "raw",
   "id": "b2663ac6-ba86-40ab-a7e8-987762b6984d",
   "metadata": {},
   "source": [
    "for edge, spine in ax.spines.items():\n",
    "        spine.set_visible(False)\n",
    "\n",
    "Turn spines off and create white grid."
   ]
  },
  {
   "cell_type": "raw",
   "id": "1910da17-079d-48cb-a51b-9fa55d132d97",
   "metadata": {},
   "source": [
    "ax.set_xticks(np.arange(data.shape[1]+1)-.5, minor=True)\n",
    "ax.set_yticks(np.arange(data.shape[0]+1)-.5, minor=True)\n",
    "ax.grid(which=\"minor\", color=\"w\", linestyle='-', linewidth=3)\n",
    "ax.tick_params(which=\"minor\", bottom=False, left=False)\n",
    "\n",
    "Adds a white grid between cells by using minor ticks.\n",
    "Disables minor tick marks but uses them for drawing grid lines."
   ]
  },
  {
   "cell_type": "raw",
   "id": "18ec9b1b-ecac-48f3-a1fa-fa440f2e5a98",
   "metadata": {},
   "source": [
    "return im, cbar\n",
    "\n",
    "Returns the im object (the heatmap image) and cbar (colorbar)"
   ]
  },
  {
   "cell_type": "code",
   "execution_count": 26,
   "id": "32c61345-8d35-435f-897a-e5563d34503f",
   "metadata": {},
   "outputs": [],
   "source": [
    "def annotate_heatmap(im, data=None, valfmt=\"{x:.2f}\",\n",
    "                    textcolors=[\"black\", \"white\"],\n",
    "                    threshold=None, **textkw):\n",
    "    if data is None:\n",
    "        data = im.get_array()\n",
    "\n",
    "    if threshold is not None:\n",
    "        threshold = im.norm(threshold)\n",
    "    else:\n",
    "        threshold = im.norm(data.max())/2.\n",
    "\n",
    "    kw = dict(horizontalalignment=\"center\", verticalalignment=\"center\")\n",
    "    kw.update(textkw)\n",
    "\n",
    "    if isinstance(valfmt, str):\n",
    "        valfmt = matplotlib.ticker.StrMethodFormatter(valfmt)\n",
    "\n",
    "    texts = []\n",
    "    for i in range(data.shape[0]):\n",
    "        for j in range(data.shape[1]):\n",
    "            color = textcolors[int(im.norm(data[i, j]) > threshold)]\n",
    "            kw.update(color=color)\n",
    "            text = im.axes.text(j, i, valfmt(data[i, j], None), **kw)\n",
    "            texts.append(text)\n",
    "\n",
    "    return texts"
   ]
  },
  {
   "cell_type": "raw",
   "id": "4f0eb13b-e0b5-4f13-aed4-3021398de448",
   "metadata": {},
   "source": [
    "def annotate_heatmap(im, data=None, valfmt=\"{x:.2f}\",\n",
    "                    textcolors=[\"black\", \"white\"],\n",
    "                    threshold=None, **textkw):\n",
    "\n",
    "im = the image returned by ax.imshow, data = actualy 2d numpy array of values pulled from im.get_array() if theres no value, valfmt = format string for displaing numbers, textcolors = list of colors for low value and high value for contrast, threshold = decides which text color to use auto calculated if not provided, **textkw = any additional keyword arguments pass to the text() function (for fonze size etc..)"
   ]
  },
  {
   "cell_type": "raw",
   "id": "4dc506db-027c-4c63-be13-68d5102e53b9",
   "metadata": {},
   "source": [
    "if data is None:\n",
    "    data = im.get_array()\n",
    "\n",
    "get the data array"
   ]
  },
  {
   "cell_type": "raw",
   "id": "5f637365-67e9-4c81-ab28-11e6242c7ba7",
   "metadata": {},
   "source": [
    "if threshold is not None:\n",
    "    threshold = im.norm(threshold)\n",
    "else:\n",
    "    threshold = im.norm(data.max()) / 2.\n",
    "\n",
    "the threshhold  scaled 0-1 using color normalization for the heatmap and will get the half of max value if you didnt set one"
   ]
  },
  {
   "cell_type": "raw",
   "id": "a9e0dd96-0584-4a88-a3a6-512364695e07",
   "metadata": {},
   "source": [
    "kw = dict(horizontalalignment=\"center\", verticalalignment=\"center\")\n",
    "kw.update(textkw)\n",
    "\n",
    "Sets the text to be centered inside each cell"
   ]
  },
  {
   "cell_type": "raw",
   "id": "5cd2d79f-5de8-4e61-a0af-b5a6989053a4",
   "metadata": {},
   "source": [
    "if isinstance(valfmt, str):\n",
    "    valfmt = matplotlib.ticker.StrMethodFormatter(valfmt)\n",
    "\n",
    "Converts your format string into an actual formatter object so it can be used in the loop."
   ]
  },
  {
   "cell_type": "raw",
   "id": "8a67dfaa-9383-4e0f-9314-cb84168f090e",
   "metadata": {},
   "source": [
    "texts = []\n",
    "for i in range(data.shape[0]):\n",
    "    for j in range(data.shape[1]):\n",
    "        color = textcolors[int(im.norm(data[i, j]) > threshold)]\n",
    "        kw.update(color=color)\n",
    "        text = im.axes.text(j, i, valfmt(data[i, j], None), **kw)\n",
    "        texts.append(text)\n",
    "\n",
    "Loops through eac value in 2d array, Normalizes the value if its above or below threshold, picks black or white for the text base on contrast, Uses to plot the number at columnj, row i and finally adds all text objects to a list."
   ]
  },
  {
   "cell_type": "code",
   "execution_count": 24,
   "id": "ebc40b70-41a7-499d-8842-a6dd0e981dba",
   "metadata": {},
   "outputs": [
    {
     "data": {
      "image/png": "[encoded data removed]",
      "text/plain": [
       "<Figure size 640x480 with 2 Axes>"
      ]
     },
     "metadata": {},
     "output_type": "display_data"
    }
   ],
   "source": [
    "# Plotting\n",
    "fig, ax = plt.subplots()\n",
    "im, cbar = heatmap(data, ['C01', 'C02', 'C03'], ['A', 'B', 'C'],\n",
    "                   ax=ax, cmap=\"YlGn\", cbarlabel=\"Number of Students\")\n",
    "texts = annotate_heatmap(im, valfmt=\"{x}\")\n",
    "plt.show()"
   ]
  },
  {
   "cell_type": "raw",
   "id": "e1549e3d-ebb8-41d7-8355-c40c1f587db4",
   "metadata": {},
   "source": [
    "fig, ax = plt.subplots()\n",
    "\n",
    "creates new figure and axis using matplotlib, fib is the overall figure object and ax is subplot / axis object where the heatmap will be drawn. Equivalent to setting up a blank canvas"
   ]
  },
  {
   "cell_type": "raw",
   "id": "3a3e07e1-ef0e-43fe-b79d-789a3a8d32b7",
   "metadata": {},
   "source": [
    "texts = annotate_heatmap(im, valfmt=\"{x}\")\n",
    "\n",
    "im = the heatmap image returned earlier\n",
    "valfmt=\"{x}\" is the format to display the raw numbers no decimal places."
   ]
  },
  {
   "cell_type": "raw",
   "id": "51d15ab0-049e-473b-b07a-37520008b50c",
   "metadata": {},
   "source": [
    "plt.show()\n",
    "\n",
    "renders the plot and display the output window."
   ]
  }
 ],
 "metadata": {
  "kernelspec": {
   "display_name": "Python [conda env:base] *",
   "language": "python",
   "name": "conda-base-py"
  },
  "language_info": {
   "codemirror_mode": {
    "name": "ipython",
    "version": 3
   },
   "file_extension": ".py",
   "mimetype": "text/x-python",
   "name": "python",
   "nbconvert_exporter": "python",
   "pygments_lexer": "ipython3",
   "version": "3.12.7"
  }
 },
 "nbformat": 4,
 "nbformat_minor": 5
}

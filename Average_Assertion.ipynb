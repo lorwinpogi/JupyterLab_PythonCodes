{
 "cells": [
  {
   "cell_type": "code",
   "execution_count": 2,
   "id": "6213e284-edbc-4ff6-b7c1-06b9b7b8a83b",
   "metadata": {},
   "outputs": [],
   "source": [
    "def avg(marks):\n",
    "\tassert len(marks) !=0\n",
    "\treturn round(sum(marks)/len(marks), 2)"
   ]
  },
  {
   "cell_type": "raw",
   "id": "6518d7df-d87d-4bb7-be9b-9e8a031bbce5",
   "metadata": {},
   "source": [
    "function named avg, marks = list numbers , assertion len(mark) shound not be empty prevent a division by zero when calculating the average then sum(marks) = adds up all the values in the list,\n",
    "len(marks) = counts how many numbers there are then , 2) limits the decimal point by 2 places ex. 61.75"
   ]
  },
  {
   "cell_type": "code",
   "execution_count": 4,
   "id": "53f2ea90-3119-41c8-a4dd-2b2e3c901d5d",
   "metadata": {},
   "outputs": [
    {
     "name": "stdout",
     "output_type": "stream",
     "text": [
      "Average marks for semester 1: 67.33\n"
     ]
    }
   ],
   "source": [
    "sem1_marks = [62, 65, 75]\n",
    "print(\"Average marks for semester 1:\", avg(sem1_marks))"
   ]
  },
  {
   "cell_type": "raw",
   "id": "2f82e873-18ad-4ec1-8c35-e25727f6f4d9",
   "metadata": {},
   "source": [
    "list name sem1_mark with 3 integers then printing avg(sem1_marks) giving us 67.33"
   ]
  },
  {
   "cell_type": "code",
   "execution_count": 7,
   "id": "c5ef2607-cbea-4eb0-83ca-c07850529cea",
   "metadata": {},
   "outputs": [
    {
     "ename": "AssertionError",
     "evalue": "",
     "output_type": "error",
     "traceback": [
      "\u001b[1;31m---------------------------------------------------------------------------\u001b[0m",
      "\u001b[1;31mAssertionError\u001b[0m                            Traceback (most recent call last)",
      "Cell \u001b[1;32mIn[7], line 2\u001b[0m\n\u001b[0;32m      1\u001b[0m ranks \u001b[38;5;241m=\u001b[39m []\n\u001b[1;32m----> 2\u001b[0m \u001b[38;5;28mprint\u001b[39m (\u001b[38;5;124m\"\u001b[39m\u001b[38;5;124mAverage of marks for semester 1:\u001b[39m\u001b[38;5;124m\"\u001b[39m, avg(ranks))\n",
      "Cell \u001b[1;32mIn[2], line 2\u001b[0m, in \u001b[0;36mavg\u001b[1;34m(marks)\u001b[0m\n\u001b[0;32m      1\u001b[0m \u001b[38;5;28;01mdef\u001b[39;00m \u001b[38;5;21mavg\u001b[39m(marks):\n\u001b[1;32m----> 2\u001b[0m \t\u001b[38;5;28;01massert\u001b[39;00m \u001b[38;5;28mlen\u001b[39m(marks) \u001b[38;5;241m!=\u001b[39m\u001b[38;5;241m0\u001b[39m\n\u001b[0;32m      3\u001b[0m \t\u001b[38;5;28;01mreturn\u001b[39;00m \u001b[38;5;28mround\u001b[39m(\u001b[38;5;28msum\u001b[39m(marks)\u001b[38;5;241m/\u001b[39m\u001b[38;5;28mlen\u001b[39m(marks), \u001b[38;5;241m2\u001b[39m)\n",
      "\u001b[1;31mAssertionError\u001b[0m: "
     ]
    }
   ],
   "source": [
    "ranks = []\n",
    "print (\"Average of marks for semester 1:\", avg(ranks))"
   ]
  },
  {
   "cell_type": "raw",
   "id": "407ac558-adac-48cc-8230-42b6c1b012d9",
   "metadata": {},
   "source": [
    "Checking if assertion is working making ranks with empty list []"
   ]
  }
 ],
 "metadata": {
  "kernelspec": {
   "display_name": "Python [conda env:base] *",
   "language": "python",
   "name": "conda-base-py"
  },
  "language_info": {
   "codemirror_mode": {
    "name": "ipython",
    "version": 3
   },
   "file_extension": ".py",
   "mimetype": "text/x-python",
   "name": "python",
   "nbconvert_exporter": "python",
   "pygments_lexer": "ipython3",
   "version": "3.12.7"
  }
 },
 "nbformat": 4,
 "nbformat_minor": 5
}

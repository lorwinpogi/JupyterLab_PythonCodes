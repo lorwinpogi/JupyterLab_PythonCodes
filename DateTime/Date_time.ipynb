{
 "cells": [
  {
   "cell_type": "code",
   "execution_count": 13,
   "id": "0f27d0c8-43e5-441d-843c-caac2da4ec4a",
   "metadata": {},
   "outputs": [],
   "source": [
    "f = open(\"log.txt\",\"w+\", encoding=\"utf-8\")"
   ]
  },
  {
   "cell_type": "raw",
   "id": "3af60537-a530-4715-a013-6937d84dbd45",
   "metadata": {},
   "source": [
    "Opens a file log.txt then writes in the file using the command w+"
   ]
  },
  {
   "cell_type": "code",
   "execution_count": 15,
   "id": "da66459b-4323-4dec-ab38-d1ca978c99b5",
   "metadata": {},
   "outputs": [],
   "source": [
    "f = open('log.txt', 'w', encoding=\"utf-8\")"
   ]
  },
  {
   "cell_type": "raw",
   "id": "9ecefc29-410a-423b-80f0-bbfad579a7c5",
   "metadata": {},
   "source": [
    "opens file log.txt then writes inside the file. if theres a text in the file will cleared or overwrite using 'w' command"
   ]
  },
  {
   "cell_type": "code",
   "execution_count": 19,
   "id": "9fa760f4-d44c-4e45-a0f3-c879b280dd26",
   "metadata": {},
   "outputs": [
    {
     "name": "stdout",
     "output_type": "stream",
     "text": [
      "20250410_18:08:08– 0\n",
      "20250410_18:08:09– 1\n",
      "20250410_18:08:10– 2\n",
      "20250410_18:08:11– 3\n",
      "20250410_18:08:12– 4\n",
      "20250410_18:08:13– 5\n",
      "20250410_18:08:14– 6\n",
      "20250410_18:08:15– 7\n",
      "20250410_18:08:16– 8\n",
      "20250410_18:08:17– 9\n"
     ]
    }
   ],
   "source": [
    "from datetime import datetime\n",
    "import time\n",
    "f = open(\"log.txt\", \"w\")\n",
    "\n",
    "for i in range(10):\n",
    "    timestamp = datetime.now().strftime(\"%Y%m%d_%H:%M:%S–\")\n",
    "    print(timestamp, i)\n",
    "    f.write(timestamp)\n",
    "    f.write(str(i))\n",
    "    f.write(\"\\n\")  \n",
    "    time.sleep(1)\n",
    "\n",
    "f.close()"
   ]
  },
  {
   "cell_type": "raw",
   "id": "f95e2f2b-ba2f-4c7b-8063-5dc2b4bca1e5",
   "metadata": {},
   "source": [
    "Writes a 10 loop that cotains Year month date hours minute second with internval of 1 second using time.sleep(1) and puts the printed code inside log.txt file"
   ]
  }
 ],
 "metadata": {
  "kernelspec": {
   "display_name": "Python [conda env:base] *",
   "language": "python",
   "name": "conda-base-py"
  },
  "language_info": {
   "codemirror_mode": {
    "name": "ipython",
    "version": 3
   },
   "file_extension": ".py",
   "mimetype": "text/x-python",
   "name": "python",
   "nbconvert_exporter": "python",
   "pygments_lexer": "ipython3",
   "version": "3.12.7"
  }
 },
 "nbformat": 4,
 "nbformat_minor": 5
}
